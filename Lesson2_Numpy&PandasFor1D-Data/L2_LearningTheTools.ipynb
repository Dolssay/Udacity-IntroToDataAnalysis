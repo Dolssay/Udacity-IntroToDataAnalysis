{
 "cells": [
  {
   "cell_type": "markdown",
   "id": "766f62b0",
   "metadata": {},
   "source": [
    "## NumPy Arrays"
   ]
  },
  {
   "cell_type": "code",
   "execution_count": 26,
   "id": "bbcfa17b",
   "metadata": {},
   "outputs": [],
   "source": [
    "import numpy as np\n",
    "# Set the print options to my liking, you can remove\n",
    "# this line to see the difference.\n",
    "np.set_printoptions(legacy='1.25')"
   ]
  },
  {
   "cell_type": "markdown",
   "id": "1ea02bbd",
   "metadata": {},
   "source": [
    "## Elements and Functions"
   ]
  },
  {
   "cell_type": "code",
   "execution_count": 27,
   "id": "13eae897",
   "metadata": {},
   "outputs": [],
   "source": [
    "# First 20 countries with employment data\n",
    "countries = np.array([\n",
    "    'Afghanistan', 'Albania', 'Algeria', 'Angola', 'Argentina',\n",
    "    'Armenia', 'Australia', 'Austria', 'Azerbaijan', 'Bahamas',\n",
    "    'Bahrain', 'Bangladesh', 'Barbados', 'Belarus', 'Belgium',\n",
    "    'Belize', 'Benin', 'Bhutan', 'Bolivia',\n",
    "    'Bosnia and Herzegovina'\n",
    "])\n",
    "\n",
    "# Employment data in 2007 for those 20 countries\n",
    "employment = np.array([\n",
    "    55.70000076,  51.40000153,  50.5       ,  75.69999695,\n",
    "    58.40000153,  40.09999847,  61.5       ,  57.09999847,\n",
    "    60.90000153,  66.59999847,  60.40000153,  68.09999847,\n",
    "    66.90000153,  53.40000153,  48.59999847,  56.79999924,\n",
    "    71.59999847,  58.40000153,  70.40000153,  41.20000076\n",
    "])"
   ]
  },
  {
   "cell_type": "code",
   "execution_count": 28,
   "id": "3ad02a41",
   "metadata": {},
   "outputs": [
    {
     "name": "stdout",
     "output_type": "stream",
     "text": [
      "Afghanistan\n",
      "Angola\n"
     ]
    }
   ],
   "source": [
    "# Accessing elements\n",
    "if True:\n",
    "    print(countries[0])\n",
    "    print(countries[3])"
   ]
  },
  {
   "cell_type": "code",
   "execution_count": null,
   "id": "9ddb4e3a",
   "metadata": {},
   "outputs": [
    {
     "name": "stdout",
     "output_type": "stream",
     "text": [
      "['Afghanistan' 'Albania' 'Algeria']\n",
      "['Afghanistan' 'Albania' 'Algeria']\n",
      "['Bhutan' 'Bolivia' 'Bosnia and Herzegovina']\n",
      "['Afghanistan' 'Albania' 'Algeria' 'Angola' 'Argentina' 'Armenia'\n",
      " 'Australia' 'Austria' 'Azerbaijan' 'Bahamas' 'Bahrain' 'Bangladesh'\n",
      " 'Barbados' 'Belarus' 'Belgium' 'Belize' 'Benin' 'Bhutan' 'Bolivia'\n",
      " 'Bosnia and Herzegovina']\n"
     ]
    }
   ],
   "source": [
    "# Slicing\n",
    "if True:\n",
    "    print(countries[0:3])\n",
    "    print(countries[:3])    \n",
    "    print(countries[17:])\n",
    "    print(countries[:])"
   ]
  },
  {
   "cell_type": "code",
   "execution_count": 30,
   "id": "56615f4f",
   "metadata": {},
   "outputs": [
    {
     "name": "stdout",
     "output_type": "stream",
     "text": [
      "<U22\n",
      "float64\n",
      "int64\n",
      "float64\n",
      "bool\n",
      "<U2\n"
     ]
    }
   ],
   "source": [
    "# Element types\n",
    "if True:\n",
    "    print (countries.dtype)\n",
    "    print (employment.dtype)\n",
    "    print (np.array([0, 1, 2, 3]).dtype)\n",
    "    print (np.array([1.0, 1.5, 2.0, 2.5]).dtype)\n",
    "    print (np.array([True, False, True]).dtype)\n",
    "    print (np.array(['AL', 'AK', 'AZ', 'AR', 'CA']).dtype)"
   ]
  },
  {
   "cell_type": "code",
   "execution_count": null,
   "id": "5b9f5968",
   "metadata": {},
   "outputs": [
    {
     "name": "stdout",
     "output_type": "stream",
     "text": [
      "Examining country Afghanistan\n",
      "Examining country Albania\n",
      "Examining country Algeria\n",
      "Examining country Angola\n",
      "Examining country Argentina\n",
      "Examining country Armenia\n",
      "Examining country Australia\n",
      "Examining country Austria\n",
      "Examining country Azerbaijan\n",
      "Examining country Bahamas\n",
      "Examining country Bahrain\n",
      "Examining country Bangladesh\n",
      "Examining country Barbados\n",
      "Examining country Belarus\n",
      "Examining country Belgium\n",
      "Examining country Belize\n",
      "Examining country Benin\n",
      "Examining country Bhutan\n",
      "Examining country Bolivia\n",
      "Examining country Bosnia and Herzegovina\n",
      "Country Afghanistan has employment 55.70000076\n",
      "Country Albania has employment 51.40000153\n",
      "Country Algeria has employment 50.5\n",
      "Country Angola has employment 75.69999695\n",
      "Country Argentina has employment 58.40000153\n",
      "Country Armenia has employment 40.09999847\n",
      "Country Australia has employment 61.5\n",
      "Country Austria has employment 57.09999847\n",
      "Country Azerbaijan has employment 60.90000153\n",
      "Country Bahamas has employment 66.59999847\n",
      "Country Bahrain has employment 60.40000153\n",
      "Country Bangladesh has employment 68.09999847\n",
      "Country Barbados has employment 66.90000153\n",
      "Country Belarus has employment 53.40000153\n",
      "Country Belgium has employment 48.59999847\n",
      "Country Belize has employment 56.79999924\n",
      "Country Benin has employment 71.59999847\n",
      "Country Bhutan has employment 58.40000153\n",
      "Country Bolivia has employment 70.40000153\n",
      "Country Bosnia and Herzegovina has employment 41.20000076\n"
     ]
    }
   ],
   "source": [
    "# Looping\n",
    "if True:\n",
    "    for country in countries:\n",
    "        print('Examining country {}'.format(country))\n",
    "\n",
    "    for i in range(len(countries)):\n",
    "        country = countries[i]\n",
    "        country_employment = employment[i]\n",
    "        print('Country {} has employment {}'.format(country,\n",
    "                country_employment))"
   ]
  },
  {
   "cell_type": "code",
   "execution_count": 34,
   "id": "ed405a24",
   "metadata": {},
   "outputs": [
    {
     "name": "stdout",
     "output_type": "stream",
     "text": [
      "58.68500003850001\n",
      "9.338269113687888\n",
      "75.69999695\n",
      "1173.70000077\n",
      "3\n"
     ]
    }
   ],
   "source": [
    "# Numpy functions\n",
    "if True:\n",
    "    print(employment.mean())\n",
    "    print(employment.std())\n",
    "    print(employment.max())\n",
    "    print(employment.sum())\n",
    "    print(employment.argmax())"
   ]
  },
  {
   "cell_type": "code",
   "execution_count": 35,
   "id": "f65e53cf",
   "metadata": {},
   "outputs": [],
   "source": [
    "def max_employment(countries, employment):\n",
    "    max_value = employment.max()\n",
    "    max_country = countries[employment.tolist().index(max_value)] \n",
    "\n",
    "    return (max_country, max_value)"
   ]
  },
  {
   "cell_type": "code",
   "execution_count": 36,
   "id": "9e989674",
   "metadata": {},
   "outputs": [
    {
     "name": "stdout",
     "output_type": "stream",
     "text": [
      "('Angola', 75.69999695)\n"
     ]
    }
   ],
   "source": [
    "print(max_employment(countries, employment))"
   ]
  },
  {
   "cell_type": "markdown",
   "id": "b10d9ff9",
   "metadata": {},
   "source": [
    "## Arithmatic operations"
   ]
  },
  {
   "cell_type": "code",
   "execution_count": 37,
   "id": "ed9aea1d",
   "metadata": {},
   "outputs": [
    {
     "name": "stdout",
     "output_type": "stream",
     "text": [
      "[2 4 4 6]\n",
      "[0 0 2 2]\n",
      "[1 4 3 8]\n",
      "[1. 1. 3. 2.]\n",
      "[ 1  4  3 16]\n"
     ]
    }
   ],
   "source": [
    "# between 2 NumPy arrays\n",
    "if True:\n",
    "    a = np.array([1, 2, 3, 4])\n",
    "    b = np.array([1, 2, 1, 2])\n",
    "    \n",
    "    print (a + b)\n",
    "    print (a - b)\n",
    "    print (a * b)\n",
    "    print (a / b)\n",
    "    print (a ** b)"
   ]
  },
  {
   "cell_type": "code",
   "execution_count": 38,
   "id": "36360df5",
   "metadata": {},
   "outputs": [
    {
     "name": "stdout",
     "output_type": "stream",
     "text": [
      "[3 4 5 6]\n",
      "[-1  0  1  2]\n",
      "[2 4 6 8]\n",
      "[0.5 1.  1.5 2. ]\n",
      "[ 1  4  9 16]\n"
     ]
    }
   ],
   "source": [
    "# between a NumPy array and a single number\n",
    "if True:\n",
    "    a = np.array([1, 2, 3, 4])\n",
    "    b = 2\n",
    "    \n",
    "    print (a + b)\n",
    "    print (a - b)\n",
    "    print (a * b)\n",
    "    print (a / b)\n",
    "    print (a ** b)"
   ]
  },
  {
   "cell_type": "code",
   "execution_count": 39,
   "id": "38f3ea5a",
   "metadata": {},
   "outputs": [
    {
     "name": "stdout",
     "output_type": "stream",
     "text": [
      "[ True False False False]\n",
      "[ True  True  True False]\n",
      "[False False  True  True]\n",
      "[ True  True False False]\n",
      "[False False False False]\n",
      "[ True  True  True  True]\n",
      "[ True  True False False]\n"
     ]
    }
   ],
   "source": [
    "# Logical operations with NumPy arrays\n",
    "if True:\n",
    "    a = np.array([True, True, False, False])\n",
    "    b = np.array([True, False, True, False])\n",
    "    \n",
    "    print (a & b)\n",
    "    print (a | b)\n",
    "    print (~a)\n",
    "    \n",
    "    print (a & True)\n",
    "    print (a & False)\n",
    "    \n",
    "    print (a | True)\n",
    "    print (a | False)"
   ]
  },
  {
   "cell_type": "code",
   "execution_count": 40,
   "id": "ec180aa6",
   "metadata": {},
   "outputs": [
    {
     "name": "stdout",
     "output_type": "stream",
     "text": [
      "[False False False  True  True]\n",
      "[False False  True  True  True]\n",
      "[ True  True False False False]\n",
      "[ True  True  True False False]\n",
      "[False False  True False False]\n",
      "[ True  True False  True  True]\n"
     ]
    }
   ],
   "source": [
    "# Comparison operations between 2 NumPy Arrays\n",
    "if True:\n",
    "    a = np.array([1, 2, 3, 4, 5])\n",
    "    b = np.array([5, 4, 3, 2, 1])\n",
    "    \n",
    "    print (a > b)\n",
    "    print (a >= b)\n",
    "    print (a < b)\n",
    "    print (a <= b)\n",
    "    print (a == b)\n",
    "    print (a != b)"
   ]
  },
  {
   "cell_type": "code",
   "execution_count": 41,
   "id": "9392f133",
   "metadata": {},
   "outputs": [
    {
     "name": "stdout",
     "output_type": "stream",
     "text": [
      "[False False  True  True]\n",
      "[False  True  True  True]\n",
      "[ True False False False]\n",
      "[ True  True False False]\n",
      "[False  True False False]\n",
      "[ True False  True  True]\n"
     ]
    }
   ],
   "source": [
    "# Comparison operations between a NumPy array and a single number\n",
    "if True:\n",
    "    a = np.array([1, 2, 3, 4])\n",
    "    b = 2\n",
    "    \n",
    "    print (a > b)\n",
    "    print (a >= b)\n",
    "    print (a < b)\n",
    "    print (a <= b)\n",
    "    print (a == b)\n",
    "    print (a != b)"
   ]
  },
  {
   "cell_type": "code",
   "execution_count": 42,
   "id": "910779fc",
   "metadata": {},
   "outputs": [],
   "source": [
    "# First 20 countries with school completion data\n",
    "countries = np.array([\n",
    "       'Algeria', 'Argentina', 'Armenia', 'Aruba', 'Austria','Azerbaijan',\n",
    "       'Bahamas', 'Barbados', 'Belarus', 'Belgium', 'Belize', 'Bolivia',\n",
    "       'Botswana', 'Brunei', 'Bulgaria', 'Burkina Faso', 'Burundi',\n",
    "       'Cambodia', 'Cameroon', 'Cape Verde'\n",
    "])\n",
    "\n",
    "# Female school completion rate in 2007 for those 20 countries\n",
    "female_completion = np.array([\n",
    "    97.35583,  104.62379,  103.02998,   95.14321,  103.69019,\n",
    "    98.49185,  100.88828,   95.43974,   92.11484,   91.54804,\n",
    "    95.98029,   98.22902,   96.12179,  119.28105,   97.84627,\n",
    "    29.07386,   38.41644,   90.70509,   51.7478 ,   95.45072\n",
    "])\n",
    "\n",
    "# Male school completion rate in 2007 for those 20 countries\n",
    "male_completion = np.array([\n",
    "     95.47622,  100.66476,   99.7926 ,   91.48936,  103.22096,\n",
    "     97.80458,  103.81398,   88.11736,   93.55611,   87.76347,\n",
    "    102.45714,   98.73953,   92.22388,  115.3892 ,   98.70502,\n",
    "     37.00692,   45.39401,   91.22084,   62.42028,   90.66958\n",
    "])"
   ]
  },
  {
   "cell_type": "code",
   "execution_count": 43,
   "id": "4ab681ef",
   "metadata": {},
   "outputs": [],
   "source": [
    "def overall_completion_rate(female_completion, male_completion):\n",
    "    return (0.5 * female_completion + 0.5 * male_completion)"
   ]
  },
  {
   "cell_type": "code",
   "execution_count": 44,
   "id": "db331cba",
   "metadata": {},
   "outputs": [
    {
     "name": "stdout",
     "output_type": "stream",
     "text": [
      "[ 96.416025 102.644275 101.41129   93.316285 103.455575  98.148215\n",
      " 102.35113   91.77855   92.835475  89.655755  99.218715  98.484275\n",
      "  94.172835 117.335125  98.275645  33.04039   41.905225  90.962965\n",
      "  57.08404   93.06015 ]\n"
     ]
    }
   ],
   "source": [
    "print(overall_completion_rate(female_completion, male_completion))"
   ]
  },
  {
   "cell_type": "code",
   "execution_count": 46,
   "id": "9d44048a",
   "metadata": {},
   "outputs": [],
   "source": [
    "# First 20 countries with employment data\n",
    "countries = np.array([\n",
    "    'Afghanistan', 'Albania', 'Algeria', 'Angola', 'Argentina',\n",
    "    'Armenia', 'Australia', 'Austria', 'Azerbaijan', 'Bahamas',\n",
    "    'Bahrain', 'Bangladesh', 'Barbados', 'Belarus', 'Belgium',\n",
    "    'Belize', 'Benin', 'Bhutan', 'Bolivia',\n",
    "    'Bosnia and Herzegovina'\n",
    "])\n",
    "\n",
    "# Employment data in 2007 for those 20 countries\n",
    "employment = np.array([\n",
    "    55.70000076,  51.40000153,  50.5       ,  75.69999695,\n",
    "    58.40000153,  40.09999847,  61.5       ,  57.09999847,\n",
    "    60.90000153,  66.59999847,  60.40000153,  68.09999847,\n",
    "    66.90000153,  53.40000153,  48.59999847,  56.79999924,\n",
    "    71.59999847,  58.40000153,  70.40000153,  41.20000076\n",
    "])\n",
    "\n",
    "def standardize_data(values):\n",
    "     return (values-values.mean()) /values.std()"
   ]
  },
  {
   "cell_type": "code",
   "execution_count": 48,
   "id": "52928aad",
   "metadata": {},
   "outputs": [
    {
     "name": "stdout",
     "output_type": "stream",
     "text": [
      "[-0.31965231 -0.780123   -0.87650077  1.82207181 -0.03051941 -1.99019768\n",
      "  0.30144772 -0.16973184  0.23719615  0.84758731  0.18365304  1.00821665\n",
      "  0.87971351 -0.56595055 -1.07996476 -0.20185762  1.38301845 -0.03051941\n",
      "  1.2545153  -1.87240259]\n"
     ]
    }
   ],
   "source": [
    "print(standardize_data(employment))"
   ]
  },
  {
   "cell_type": "markdown",
   "id": "d41ac608",
   "metadata": {},
   "source": [
    "## Numpy Index Arrays"
   ]
  },
  {
   "cell_type": "code",
   "execution_count": 49,
   "id": "709f005a",
   "metadata": {},
   "outputs": [
    {
     "name": "stdout",
     "output_type": "stream",
     "text": [
      "[1 2]\n",
      "[1 3]\n"
     ]
    }
   ],
   "source": [
    "# Using index arrays\n",
    "if True:\n",
    "    a = np.array([1, 2, 3, 4])\n",
    "    b = np.array([True, True, False, False])\n",
    "    \n",
    "    print (a[b])\n",
    "    print (a[np.array([True, False, True, False])])"
   ]
  },
  {
   "cell_type": "code",
   "execution_count": 50,
   "id": "6f3d5486",
   "metadata": {},
   "outputs": [
    {
     "name": "stdout",
     "output_type": "stream",
     "text": [
      "[2 3 2]\n",
      "[2 3 2]\n"
     ]
    }
   ],
   "source": [
    "# Creating the index array using vectorized operations\n",
    "if True:\n",
    "    a = np.array([1, 2, 3, 2, 1])\n",
    "    b = (a >= 2)\n",
    "    \n",
    "    print (a[b])\n",
    "    print (a[a >= 2])"
   ]
  },
  {
   "cell_type": "code",
   "execution_count": 51,
   "id": "048e3fbb",
   "metadata": {},
   "outputs": [
    {
     "name": "stdout",
     "output_type": "stream",
     "text": [
      "[False  True False  True False]\n",
      "[2 4]\n"
     ]
    }
   ],
   "source": [
    "# Creating the index array using vectorized operations on another array\n",
    "if True:\n",
    "    a = np.array([1, 2, 3, 4, 5])\n",
    "    b = np.array([1, 2, 3, 2, 1])\n",
    "    \n",
    "    print (b == 2)\n",
    "    print (a[b == 2])"
   ]
  },
  {
   "cell_type": "code",
   "execution_count": 52,
   "id": "c9835236",
   "metadata": {},
   "outputs": [],
   "source": [
    "# Time spent in the classroom in the first week for 20 students\n",
    "time_spent = np.array([\n",
    "       12.89697233,    0.        ,   64.55043217,    0.        ,\n",
    "       24.2315615 ,   39.991625  ,    0.        ,    0.        ,\n",
    "      147.20683783,    0.        ,    0.        ,    0.        ,\n",
    "       45.18261617,  157.60454283,  133.2434615 ,   52.85000767,\n",
    "        0.        ,   54.9204785 ,   26.78142417,    0.\n",
    "])\n",
    "\n",
    "# Days to cancel for 20 students\n",
    "days_to_cancel = np.array([\n",
    "      4,   5,  37,   3,  12,   4,  35,  38,   5,  37,   3,   3,  68,\n",
    "     38,  98,   2, 249,   2, 127,  35\n",
    "])"
   ]
  },
  {
   "cell_type": "code",
   "execution_count": 53,
   "id": "de1b9a9e",
   "metadata": {},
   "outputs": [],
   "source": [
    "def mean_time_for_paid_students(time_spent, days_to_cancel):\n",
    "    return time_spent[days_to_cancel >= 7].mean()"
   ]
  },
  {
   "cell_type": "code",
   "execution_count": 54,
   "id": "954e42d6",
   "metadata": {},
   "outputs": [
    {
     "name": "stdout",
     "output_type": "stream",
     "text": [
      "41.05400348545454\n"
     ]
    }
   ],
   "source": [
    "print(mean_time_for_paid_students(time_spent, days_to_cancel))"
   ]
  },
  {
   "cell_type": "markdown",
   "id": "089d96e4",
   "metadata": {},
   "source": [
    "## Pandas Series"
   ]
  },
  {
   "cell_type": "code",
   "execution_count": 85,
   "id": "5172ae6e",
   "metadata": {},
   "outputs": [],
   "source": [
    "import pandas as pd"
   ]
  },
  {
   "cell_type": "code",
   "execution_count": 86,
   "id": "ae08b916",
   "metadata": {},
   "outputs": [],
   "source": [
    "countries = ['Albania', 'Algeria', 'Andorra', 'Angola', 'Antigua and Barbuda',\n",
    "             'Argentina', 'Armenia', 'Australia', 'Austria', 'Azerbaijan',\n",
    "             'Bahamas', 'Bahrain', 'Bangladesh', 'Barbados', 'Belarus',\n",
    "             'Belgium', 'Belize', 'Benin', 'Bhutan', 'Bolivia']\n",
    "\n",
    "life_expectancy_values = [74.7,  75. ,  83.4,  57.6,  74.6,  75.4,  72.3,  81.5,  80.2,\n",
    "                          70.3,  72.1,  76.4,  68.1,  75.2,  69.8,  79.4,  70.8,  62.7,\n",
    "                          67.3,  70.6]\n",
    "\n",
    "gdp_values = [ 1681.61390973,   2155.48523109,  21495.80508273,    562.98768478,\n",
    "              13495.1274663 ,   9388.68852258,   1424.19056199,  24765.54890176,\n",
    "              27036.48733192,   1945.63754911,  21721.61840978,  13373.21993972,\n",
    "                483.97086804,   9783.98417323,   2253.46411147,  25034.66692293,\n",
    "               3680.91642923,    366.04496652,   1175.92638695,   1132.21387981]\n",
    "\n",
    "# Life expectancy and gdp data in 2007 for 20 countries\n",
    "life_expectancy = pd.Series(life_expectancy_values)\n",
    "gdp = pd.Series(gdp_values)"
   ]
  },
  {
   "cell_type": "code",
   "execution_count": 87,
   "id": "e5c82513",
   "metadata": {},
   "outputs": [
    {
     "name": "stdout",
     "output_type": "stream",
     "text": [
      "0     74.7\n",
      "1     75.0\n",
      "2     83.4\n",
      "3     57.6\n",
      "4     74.6\n",
      "5     75.4\n",
      "6     72.3\n",
      "7     81.5\n",
      "8     80.2\n",
      "9     70.3\n",
      "10    72.1\n",
      "11    76.4\n",
      "12    68.1\n",
      "13    75.2\n",
      "14    69.8\n",
      "15    79.4\n",
      "16    70.8\n",
      "17    62.7\n",
      "18    67.3\n",
      "19    70.6\n",
      "dtype: float64\n"
     ]
    }
   ],
   "source": [
    "if True:\n",
    "    print (life_expectancy)"
   ]
  },
  {
   "cell_type": "code",
   "execution_count": 88,
   "id": "dd48e589",
   "metadata": {},
   "outputs": [
    {
     "name": "stdout",
     "output_type": "stream",
     "text": [
      "Examining life expectancy 74.7\n",
      "Examining life expectancy 75.0\n",
      "Examining life expectancy 83.4\n",
      "Examining life expectancy 57.6\n",
      "Examining life expectancy 74.6\n",
      "Examining life expectancy 75.4\n",
      "Examining life expectancy 72.3\n",
      "Examining life expectancy 81.5\n",
      "Examining life expectancy 80.2\n",
      "Examining life expectancy 70.3\n",
      "Examining life expectancy 72.1\n",
      "Examining life expectancy 76.4\n",
      "Examining life expectancy 68.1\n",
      "Examining life expectancy 75.2\n",
      "Examining life expectancy 69.8\n",
      "Examining life expectancy 79.4\n",
      "Examining life expectancy 70.8\n",
      "Examining life expectancy 62.7\n",
      "Examining life expectancy 67.3\n",
      "Examining life expectancy 70.6\n"
     ]
    }
   ],
   "source": [
    "# Looping\n",
    "if True:\n",
    "    for country_life_expectancy in life_expectancy:\n",
    "        print ('Examining life expectancy {}'.format(country_life_expectancy))"
   ]
  },
  {
   "cell_type": "code",
   "execution_count": 89,
   "id": "e178cef5",
   "metadata": {},
   "outputs": [
    {
     "name": "stdout",
     "output_type": "stream",
     "text": [
      "72.86999999999999\n",
      "6.213999474869968\n",
      "27036.48733192\n",
      "182957.59832967006\n"
     ]
    }
   ],
   "source": [
    "# Pandas functions\n",
    "if True:\n",
    "    print (life_expectancy.mean())\n",
    "    print (life_expectancy.std())\n",
    "    print (gdp.max())\n",
    "    print (gdp.sum())"
   ]
  },
  {
   "cell_type": "code",
   "execution_count": 90,
   "id": "7357148a",
   "metadata": {},
   "outputs": [
    {
     "name": "stdout",
     "output_type": "stream",
     "text": [
      "0    2\n",
      "1    4\n",
      "2    4\n",
      "3    6\n",
      "dtype: int64\n",
      "0    2\n",
      "1    4\n",
      "2    6\n",
      "3    8\n",
      "dtype: int64\n",
      "0    False\n",
      "1    False\n",
      "2     True\n",
      "3     True\n",
      "dtype: bool\n",
      "2    3\n",
      "3    4\n",
      "dtype: int64\n"
     ]
    }
   ],
   "source": [
    "# Vectorized operations and index arrays\n",
    "if True:\n",
    "    a = pd.Series([1, 2, 3, 4])\n",
    "    b = pd.Series([1, 2, 1, 2])\n",
    "  \n",
    "    print (a + b)\n",
    "    print (a * 2)\n",
    "    print (a >= 3)\n",
    "    print (a[a >= 3])"
   ]
  },
  {
   "cell_type": "code",
   "execution_count": 91,
   "id": "624cd5fe",
   "metadata": {},
   "outputs": [],
   "source": [
    "def variable_correlation(variable1, variable2):\n",
    "    '''\n",
    "    Fill in this function to calculate the number of data points for which\n",
    "    the directions of variable1 and variable2 relative to the mean are the\n",
    "    same, and the number of data points for which they are different.\n",
    "    Direction here means whether each value is above or below its mean.\n",
    "    \n",
    "    You can classify cases where the value is equal to the mean for one or\n",
    "    both variables however you like.\n",
    "    \n",
    "    Each argument will be a Pandas series.\n",
    "    \n",
    "    For example, if the inputs were pd.Series([1, 2, 3, 4]) and\n",
    "    pd.Series([4, 5, 6, 7]), then the output would be (4, 0).\n",
    "    This is because 1 and 4 are both below their means, 2 and 5 are both\n",
    "    below, 3 and 6 are both above, and 4 and 7 are both above.\n",
    "    \n",
    "    On the other hand, if the inputs were pd.Series([1, 2, 3, 4]) and\n",
    "    pd.Series([7, 6, 5, 4]), then the output would be (0, 4).\n",
    "    This is because 1 is below its mean but 7 is above its mean, and\n",
    "    so on.\n",
    "    '''\n",
    "    both_above = (variable1 > variable1.mean()) & (variable2 > variable2.mean())\n",
    "    both_below = (variable1 < variable1.mean()) & (variable2 < variable2.mean())\n",
    "    is_same_direction = both_above | both_below\n",
    "    num_same_direction = is_same_direction.sum()\n",
    "    num_different_direction =len(variable1) - num_same_direction \n",
    "    return (num_same_direction, num_different_direction)"
   ]
  },
  {
   "cell_type": "code",
   "execution_count": 92,
   "id": "ccca8e1c",
   "metadata": {},
   "outputs": [
    {
     "data": {
      "text/plain": [
       "(17, 3)"
      ]
     },
     "execution_count": 92,
     "metadata": {},
     "output_type": "execute_result"
    }
   ],
   "source": [
    "variable_correlation(life_expectancy, gdp)"
   ]
  },
  {
   "cell_type": "code",
   "execution_count": 107,
   "id": "f34f5e25",
   "metadata": {},
   "outputs": [
    {
     "data": {
      "text/plain": [
       "Afghanistan               55.700001\n",
       "Albania                   51.400002\n",
       "Algeria                   50.500000\n",
       "Angola                    75.699997\n",
       "Argentina                 58.400002\n",
       "Armenia                   40.099998\n",
       "Australia                 61.500000\n",
       "Austria                   57.099998\n",
       "Azerbaijan                60.900002\n",
       "Bahamas                   66.599998\n",
       "Bahrain                   60.400002\n",
       "Bangladesh                68.099998\n",
       "Barbados                  66.900002\n",
       "Belarus                   53.400002\n",
       "Belgium                   48.599998\n",
       "Belize                    56.799999\n",
       "Benin                     71.599998\n",
       "Bhutan                    58.400002\n",
       "Bolivia                   70.400002\n",
       "Bosnia and Herzegovina    41.200001\n",
       "dtype: float64"
      ]
     },
     "execution_count": 107,
     "metadata": {},
     "output_type": "execute_result"
    }
   ],
   "source": [
    "countries = [\n",
    "    'Afghanistan', 'Albania', 'Algeria', 'Angola',\n",
    "    'Argentina', 'Armenia', 'Australia', 'Austria',\n",
    "    'Azerbaijan', 'Bahamas', 'Bahrain', 'Bangladesh',\n",
    "    'Barbados', 'Belarus', 'Belgium', 'Belize',\n",
    "    'Benin', 'Bhutan', 'Bolivia', 'Bosnia and Herzegovina',\n",
    "]\n",
    "\n",
    "\n",
    "employment_values = [\n",
    "    55.70000076,  51.40000153,  50.5       ,  75.69999695,\n",
    "    58.40000153,  40.09999847,  61.5       ,  57.09999847,\n",
    "    60.90000153,  66.59999847,  60.40000153,  68.09999847,\n",
    "    66.90000153,  53.40000153,  48.59999847,  56.79999924,\n",
    "    71.59999847,  58.40000153,  70.40000153,  41.20000076,\n",
    "]\n",
    "\n",
    "# Employment data in 2007 for 20 countries\n",
    "employment1 = pd.Series(employment_values, index=countries)\n",
    "\n",
    "employment1"
   ]
  },
  {
   "cell_type": "code",
   "execution_count": 108,
   "id": "618c1997",
   "metadata": {},
   "outputs": [],
   "source": [
    "def max_employment(employment):\n",
    "    max_value = employment.max()\n",
    "    max_country = employment.idxmax()  # Get the index of the maximum value\n",
    "    return (max_country, max_value)"
   ]
  },
  {
   "cell_type": "code",
   "execution_count": 109,
   "id": "49802197",
   "metadata": {},
   "outputs": [
    {
     "name": "stdout",
     "output_type": "stream",
     "text": [
      "('Angola', 75.69999695)\n"
     ]
    }
   ],
   "source": [
    "print(max_employment(employment1))"
   ]
  },
  {
   "cell_type": "markdown",
   "id": "3bcda7bd",
   "metadata": {},
   "source": [
    "## Vectorized Operations and Series Indexes"
   ]
  },
  {
   "cell_type": "markdown",
   "id": "e0fecdf2",
   "metadata": {},
   "source": []
  }
 ],
 "metadata": {
  "kernelspec": {
   "display_name": "Python 3",
   "language": "python",
   "name": "python3"
  },
  "language_info": {
   "codemirror_mode": {
    "name": "ipython",
    "version": 3
   },
   "file_extension": ".py",
   "mimetype": "text/x-python",
   "name": "python",
   "nbconvert_exporter": "python",
   "pygments_lexer": "ipython3",
   "version": "3.13.4"
  }
 },
 "nbformat": 4,
 "nbformat_minor": 5
}
