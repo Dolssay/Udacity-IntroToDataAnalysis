{
 "cells": [
  {
   "cell_type": "code",
   "execution_count": 29,
   "id": "98a351c1",
   "metadata": {},
   "outputs": [],
   "source": [
    "import csv\n",
    "\n",
    "# Specify the filenames for the datasets\n",
    "enrollments_filename = 'enrollments.csv'\n",
    "engagement_filename = 'daily_engagement.csv'\n",
    "submissions_filename = 'project_submissions.csv'"
   ]
  },
  {
   "cell_type": "code",
   "execution_count": 30,
   "id": "a9c2fc22",
   "metadata": {},
   "outputs": [
    {
     "name": "stdout",
     "output_type": "stream",
     "text": [
      "{'account_key': '448', 'status': 'canceled', 'join_date': '2014-11-10', 'cancel_date': '2015-01-14', 'days_to_cancel': '65', 'is_udacity': 'True', 'is_canceled': 'True'}\n",
      "{'acct': '0', 'utc_date': '2015-01-09', 'num_courses_visited': '1.0', 'total_minutes_visited': '11.6793745', 'lessons_completed': '0.0', 'projects_completed': '0.0'}\n",
      "{'creation_date': '2015-01-14', 'completion_date': '2015-01-16', 'assigned_rating': 'UNGRADED', 'account_key': '256', 'lesson_key': '3176718735', 'processing_state': 'EVALUATED'}\n"
     ]
    }
   ],
   "source": [
    "# Read the CSV files and store the data in manageable types\n",
    "def read_csv(filename):\n",
    "    with open(filename, 'rt') as f:\n",
    "        reader = csv.DictReader(f)\n",
    "        return list(reader)\n",
    "enrollments = read_csv(enrollments_filename)\n",
    "daily_engagement = read_csv(engagement_filename)\n",
    "project_submissions = read_csv(submissions_filename)\n",
    "print(enrollments[0])\n",
    "print(daily_engagement[0])\n",
    "print(project_submissions[0])"
   ]
  },
  {
   "cell_type": "markdown",
   "id": "a743414f",
   "metadata": {},
   "source": [
    "## Fixing data type"
   ]
  },
  {
   "cell_type": "code",
   "execution_count": 31,
   "id": "514cdacf",
   "metadata": {},
   "outputs": [
    {
     "data": {
      "text/plain": [
       "{'account_key': '448',\n",
       " 'status': 'canceled',\n",
       " 'join_date': datetime.datetime(2014, 11, 10, 0, 0),\n",
       " 'cancel_date': datetime.datetime(2015, 1, 14, 0, 0),\n",
       " 'days_to_cancel': 65,\n",
       " 'is_udacity': True,\n",
       " 'is_canceled': True}"
      ]
     },
     "execution_count": 31,
     "metadata": {},
     "output_type": "execute_result"
    }
   ],
   "source": [
    "from datetime import datetime as dt\n",
    "\n",
    "# Takes a date as a string, and returns a Python datetime object. \n",
    "# If there is no date given, returns None\n",
    "def parse_date(date):\n",
    "    if date == '':\n",
    "        return None\n",
    "    else:\n",
    "        return dt.strptime(date, '%Y-%m-%d')\n",
    "    \n",
    "# Takes a string which is either an empty string or represents an integer,\n",
    "# and returns an int or None.\n",
    "def parse_maybe_int(i):\n",
    "    if i == '':\n",
    "        return None\n",
    "    else:\n",
    "        return int(i)\n",
    "\n",
    "# Clean up the data types in the enrollments table\n",
    "for enrollment in enrollments:\n",
    "    enrollment['cancel_date'] = parse_date(enrollment['cancel_date'])\n",
    "    enrollment['days_to_cancel'] = parse_maybe_int(enrollment['days_to_cancel'])\n",
    "    enrollment['is_canceled'] = enrollment['is_canceled'] == 'True'\n",
    "    enrollment['is_udacity'] = enrollment['is_udacity'] == 'True'\n",
    "    enrollment['join_date'] = parse_date(enrollment['join_date'])\n",
    "    \n",
    "enrollments[0]"
   ]
  },
  {
   "cell_type": "code",
   "execution_count": 32,
   "id": "5ccab111",
   "metadata": {},
   "outputs": [
    {
     "data": {
      "text/plain": [
       "{'acct': '0',\n",
       " 'utc_date': datetime.datetime(2015, 1, 9, 0, 0),\n",
       " 'num_courses_visited': 1,\n",
       " 'total_minutes_visited': 11.6793745,\n",
       " 'lessons_completed': 0,\n",
       " 'projects_completed': 0}"
      ]
     },
     "execution_count": 32,
     "metadata": {},
     "output_type": "execute_result"
    }
   ],
   "source": [
    "# Clean up the data types in the engagement table\n",
    "for engagement_record in daily_engagement:\n",
    "    engagement_record['lessons_completed'] = int(float(engagement_record['lessons_completed']))\n",
    "    engagement_record['num_courses_visited'] = int(float(engagement_record['num_courses_visited']))\n",
    "    engagement_record['projects_completed'] = int(float(engagement_record['projects_completed']))\n",
    "    engagement_record['total_minutes_visited'] = float(engagement_record['total_minutes_visited'])\n",
    "    engagement_record['utc_date'] = parse_date(engagement_record['utc_date'])\n",
    "    \n",
    "daily_engagement[0]"
   ]
  },
  {
   "cell_type": "code",
   "execution_count": 33,
   "id": "21e13741",
   "metadata": {},
   "outputs": [
    {
     "data": {
      "text/plain": [
       "{'creation_date': datetime.datetime(2015, 1, 14, 0, 0),\n",
       " 'completion_date': datetime.datetime(2015, 1, 16, 0, 0),\n",
       " 'assigned_rating': 'UNGRADED',\n",
       " 'account_key': '256',\n",
       " 'lesson_key': '3176718735',\n",
       " 'processing_state': 'EVALUATED'}"
      ]
     },
     "execution_count": 33,
     "metadata": {},
     "output_type": "execute_result"
    }
   ],
   "source": [
    "# Clean up the data types in the submissions table\n",
    "for submission in project_submissions:\n",
    "    submission['completion_date'] = parse_date(submission['completion_date'])\n",
    "    submission['creation_date'] = parse_date(submission['creation_date'])\n",
    "\n",
    "project_submissions[0]"
   ]
  },
  {
   "cell_type": "markdown",
   "id": "a4abd589",
   "metadata": {},
   "source": [
    "## Problems in the Data"
   ]
  },
  {
   "cell_type": "code",
   "execution_count": 34,
   "id": "5855f2e8",
   "metadata": {},
   "outputs": [
    {
     "data": {
      "text/plain": [
       "'0'"
      ]
     },
     "execution_count": 34,
     "metadata": {},
     "output_type": "execute_result"
    }
   ],
   "source": [
    "# Rename the \"acct\" column in the daily_engagement table to \"account_key\".\n",
    "\n",
    "for e in daily_engagement:\n",
    "    # Check to see if the key have been renamed, to prevent Error\n",
    "    # When running this multiple times\n",
    "    if 'acct' in e:\n",
    "        e['account_key'] = e['acct']\n",
    "        del e['acct']\n",
    "daily_engagement[0]['account_key']\n"
   ]
  },
  {
   "cell_type": "markdown",
   "id": "0ef76da0",
   "metadata": {},
   "source": [
    "## Investigating the data"
   ]
  },
  {
   "cell_type": "code",
   "execution_count": 35,
   "id": "7a632c41",
   "metadata": {},
   "outputs": [
    {
     "name": "stdout",
     "output_type": "stream",
     "text": [
      "1640\n",
      "1302\n",
      "136240\n",
      "1237\n",
      "3642\n",
      "743\n"
     ]
    }
   ],
   "source": [
    "# Find the total number of rows and the number of unique students (account keys)\n",
    "# in each table.\n",
    "\n",
    "#Define a function to gather the account keys into a set  \n",
    "def get_unique_students(data):\n",
    "    return (set([e[\"account_key\"] for e in data]))\n",
    "\n",
    "enrollment_num_rows = len(enrollments)\n",
    "print(enrollment_num_rows)           \n",
    "enrollment_num_unique_students = len(get_unique_students(enrollments))\n",
    "print(enrollment_num_unique_students)  \n",
    "\n",
    "engagement_num_rows = len(daily_engagement)\n",
    "print(engagement_num_rows)             \n",
    "engagement_num_unique_students = len(get_unique_students(daily_engagement))\n",
    "print(engagement_num_unique_students)\n",
    "\n",
    "submission_num_rows = len(project_submissions)\n",
    "print(submission_num_rows)             \n",
    "submission_num_unique_students = len(get_unique_students(project_submissions))\n",
    "print(submission_num_unique_students)  "
   ]
  },
  {
   "cell_type": "markdown",
   "id": "02bbdfa3",
   "metadata": {},
   "source": [
    "## Missing Engagement Records"
   ]
  },
  {
   "cell_type": "code",
   "execution_count": 36,
   "id": "320284ca",
   "metadata": {},
   "outputs": [
    {
     "name": "stdout",
     "output_type": "stream",
     "text": [
      "{'account_key': '1219', 'status': 'canceled', 'join_date': datetime.datetime(2014, 11, 12, 0, 0), 'cancel_date': datetime.datetime(2014, 11, 12, 0, 0), 'days_to_cancel': 0, 'is_udacity': False, 'is_canceled': True}\n"
     ]
    }
   ],
   "source": [
    "# Now we have the number of students enrolled is different from the number of students who engaged with the course.\n",
    "# I will try to find out why this is the case.\n",
    "for enrollment in enrollments:\n",
    "    student = enrollment['account_key']\n",
    "    if student not in get_unique_students(daily_engagement):\n",
    "        print(enrollment)\n",
    "        break"
   ]
  },
  {
   "cell_type": "code",
   "execution_count": 37,
   "id": "f274851b",
   "metadata": {},
   "outputs": [
    {
     "name": "stdout",
     "output_type": "stream",
     "text": [
      "{'account_key': '1304', 'status': 'canceled', 'join_date': datetime.datetime(2015, 1, 10, 0, 0), 'cancel_date': datetime.datetime(2015, 3, 10, 0, 0), 'days_to_cancel': 59, 'is_udacity': True, 'is_canceled': True}\n",
      "{'account_key': '1304', 'status': 'canceled', 'join_date': datetime.datetime(2015, 3, 10, 0, 0), 'cancel_date': datetime.datetime(2015, 6, 17, 0, 0), 'days_to_cancel': 99, 'is_udacity': True, 'is_canceled': True}\n",
      "{'account_key': '1101', 'status': 'current', 'join_date': datetime.datetime(2015, 2, 25, 0, 0), 'cancel_date': None, 'days_to_cancel': None, 'is_udacity': True, 'is_canceled': False}\n",
      "3\n"
     ]
    }
   ],
   "source": [
    "# The result from the cell above shows that the student canceled their enrollment on the same day they joined.\n",
    "# What if there are other suprising cases?\n",
    "suprising_count = 0\n",
    "for enrollment in enrollments:\n",
    "    student = enrollment['account_key']\n",
    "    if student not in get_unique_students(daily_engagement) \\\n",
    "        and enrollment['join_date'] != enrollment['cancel_date']:\n",
    "        suprising_count += 1\n",
    "        print(enrollment)\n",
    "print(suprising_count)"
   ]
  },
  {
   "cell_type": "code",
   "execution_count": 38,
   "id": "3c9bdd27",
   "metadata": {},
   "outputs": [],
   "source": [
    "# What was found are the three test accounts that were created by Udacity.\n",
    "# Indicated by is_udacity = True.\n",
    "# Here I remove them from the data since I don't plan to include them in any analysis.\n",
    "\n",
    "is_udacity = set(e['account_key'] for e in enrollments if e['is_udacity'])"
   ]
  },
  {
   "cell_type": "code",
   "execution_count": 39,
   "id": "c34e2c1e",
   "metadata": {},
   "outputs": [
    {
     "name": "stdout",
     "output_type": "stream",
     "text": [
      "1622\n",
      "135656\n",
      "3634\n"
     ]
    }
   ],
   "source": [
    "# Making new datasets without the Udacity accounts\n",
    "# In case I want to return to the original datasats\n",
    "\n",
    "def remove_udacity_accounts(data):\n",
    "    non_udacity_data = []\n",
    "    for data_point in data:\n",
    "        if data_point['account_key'] not in is_udacity:\n",
    "            non_udacity_data.append(data_point)\n",
    "    return non_udacity_data\n",
    "\n",
    "non_udacity_enrollments = remove_udacity_accounts(enrollments)\n",
    "non_udacity_engagement = remove_udacity_accounts(daily_engagement)\n",
    "non_udacity_submissions = remove_udacity_accounts(project_submissions)\n",
    "\n",
    "print(len(non_udacity_enrollments))\n",
    "print(len(non_udacity_engagement)) \n",
    "print(len(non_udacity_submissions))"
   ]
  },
  {
   "cell_type": "markdown",
   "id": "757e7496",
   "metadata": {},
   "source": [
    "## Refining the Question"
   ]
  },
  {
   "cell_type": "code",
   "execution_count": null,
   "id": "7434e34f",
   "metadata": {},
   "outputs": [
    {
     "name": "stdout",
     "output_type": "stream",
     "text": [
      "995\n"
     ]
    }
   ],
   "source": [
    "# The question I wanted to ask:\n",
    "# How do numbers in the daily engagement table differ for students who pass the\n",
    "# first project?\n",
    "\n",
    "# However, there are many problems to this, most notably that this will compare\n",
    "# data from different lengths of time.\n",
    "\n",
    "# Therefore, my revision of the question is to only look at engagement from the \n",
    "# first week, and exclude students who cancelwithin a week.\n",
    "\n",
    "# The paid_students variable contains all students who either\n",
    "# haven't canceled yet or who remained enrolled for more than 7 days. \n",
    "# The keys are account keys, and the values are the date the student enrolled.\n",
    "\n",
    "paid_students = {}\n",
    "for enrollment in non_udacity_enrollments:\n",
    "    account_key = enrollment['account_key']\n",
    "    enrollment_date = enrollment['join_date']\n",
    "    if enrollment['days_to_cancel'] is None or enrollment['days_to_cancel'] > 7:\n",
    "        # IMPORTANT:\n",
    "        # This statement is to check the latest enrollment date for students who\n",
    "        # Enrolled multiple times\n",
    "        if (account_key not in paid_students or enrollment_date > paid_students[account_key]):\n",
    "            paid_students[account_key] = enrollment_date\n",
    "print(len(paid_students))"
   ]
  },
  {
   "cell_type": "code",
   "execution_count": null,
   "id": "3270df82",
   "metadata": {},
   "outputs": [
    {
     "name": "stdout",
     "output_type": "stream",
     "text": [
      "1293\n",
      "134549\n",
      "3618\n"
     ]
    }
   ],
   "source": [
    "# The function remove free trial accounts who canceled their enrollment within\n",
    "# a week.\n",
    "def remove_free_trial_cancels(data):\n",
    "    new_data = []\n",
    "    for data_point in data:\n",
    "        if data_point['account_key'] in paid_students:\n",
    "            new_data.append(data_point)\n",
    "    return new_data"
   ]
  },
  {
   "cell_type": "code",
   "execution_count": null,
   "id": "623ffd40",
   "metadata": {},
   "outputs": [],
   "source": [
    "# Apply the function to the datasets\n",
    "paid_enrollments = remove_free_trial_cancels(non_udacity_enrollments)\n",
    "paid_engagement = remove_free_trial_cancels(non_udacity_engagement)\n",
    "paid_submissions = remove_free_trial_cancels(non_udacity_submissions)\n",
    "print(len(paid_enrollments))\n",
    "print(len(paid_engagement))\n",
    "print(len(paid_submissions))"
   ]
  },
  {
   "cell_type": "markdown",
   "id": "7003b8ef",
   "metadata": {},
   "source": [
    "## Getting Data for the first Week"
   ]
  },
  {
   "cell_type": "code",
   "execution_count": 122,
   "id": "cdd71014",
   "metadata": {},
   "outputs": [],
   "source": [
    "# Takes a student's join date and the date of a specific engagement record,\n",
    "# and returns True if that engagement record happened within one week\n",
    "# of the student joining.\n",
    "def within_one_week(join_date, engagement_date):\n",
    "    time_delta = engagement_date - join_date\n",
    "    # Important to check if the time difference is positive\n",
    "    # As we may include records from previous enrollments of the same student\n",
    "    return time_delta.days >= 0 and time_delta.days < 7"
   ]
  },
  {
   "cell_type": "code",
   "execution_count": 123,
   "id": "6c728ac8",
   "metadata": {},
   "outputs": [
    {
     "data": {
      "text/plain": [
       "6919"
      ]
     },
     "execution_count": 123,
     "metadata": {},
     "output_type": "execute_result"
    }
   ],
   "source": [
    "# This is a list of rows from the engagement table including only rows where\n",
    "# the student is one of the paid students I just found, and the date is within\n",
    "# one week of the student's join date.\n",
    "\n",
    "paid_engagement_in_first_week = []\n",
    "for engagement_record in paid_engagement:\n",
    "    account_key = engagement_record['account_key']\n",
    "    join_date = paid_students[account_key]\n",
    "    engagement_record_date = engagement_record['utc_date']\n",
    "        \n",
    "    if within_one_week(join_date, engagement_record_date):\n",
    "         paid_engagement_in_first_week.append(engagement_record)\n",
    "    \n",
    "len(paid_engagement_in_first_week)"
   ]
  },
  {
   "cell_type": "markdown",
   "id": "8a6fdd36",
   "metadata": {},
   "source": [
    "## Exploring the Data of the first week"
   ]
  },
  {
   "cell_type": "code",
   "execution_count": 134,
   "id": "7fa88895",
   "metadata": {},
   "outputs": [],
   "source": [
    "from collections import defaultdict\n",
    "# The library allows us to create a dictionary that returns a default value\n",
    "# if the key is not found.\n",
    "\n",
    "# This will have a default value of an empty list. Because we want to \n",
    "# Get the list of records for each student.\n",
    "engagement_by_account = defaultdict(list)\n",
    "for record in paid_engagement_in_first_week:\n",
    "    account_key = record['account_key']\n",
    "    # This is where defultdict comes in handy.\n",
    "    engagement_by_account[account_key].append(record)"
   ]
  },
  {
   "cell_type": "code",
   "execution_count": 135,
   "id": "e524448d",
   "metadata": {},
   "outputs": [],
   "source": [
    "# A function to get the total from a given field\n",
    "# This function will return a dictionary with the account keys as keys\n",
    "# and the total of the given field as values.\n",
    "def get_total_from_statistic(field_name, data):\n",
    "    total_by_account = {}\n",
    "    for account_key, records in data.items():\n",
    "        total = 0\n",
    "        for record in records:\n",
    "            total += record[field_name]\n",
    "        total_by_account[account_key] = total\n",
    "    return total_by_account"
   ]
  },
  {
   "cell_type": "code",
   "execution_count": 136,
   "id": "5d6c7c8b",
   "metadata": {},
   "outputs": [],
   "source": [
    "import numpy as np\n",
    "# The libraray to do caclulations on the data \n",
    "\n",
    "#A function to print out the information for a given field\n",
    "def display_statistics(field_values):\n",
    "    print('Mean:', np.mean(field_values))\n",
    "    print('Standard Deviation:', np.std(field_values))\n",
    "    print('Minimum:', np.min(field_values))\n",
    "    print('Maximum:', np.max(field_values))"
   ]
  },
  {
   "cell_type": "code",
   "execution_count": 137,
   "id": "cac8c1d6",
   "metadata": {},
   "outputs": [
    {
     "name": "stdout",
     "output_type": "stream",
     "text": [
      "Mean: 306.70832675342825\n",
      "Standard Deviation: 412.99693340852957\n",
      "Minimum: 0.0\n",
      "Maximum: 3564.7332644989997\n",
      "Mean: 1.636180904522613\n",
      "Standard Deviation: 3.002561299829423\n",
      "Minimum: 0\n",
      "Maximum: 36\n"
     ]
    }
   ],
   "source": [
    "# A simple dictionary to hold the total minutes studied in the first week \n",
    "# for each account\n",
    "total_minutes_by_account = get_total_from_statistic('total_minutes_visited', engagement_by_account)\n",
    "#Get just the values for total minutes, account keys are not needed now\n",
    "total_minutes = list(total_minutes_by_account.values())\n",
    "# Display the statistics for total minutes\n",
    "display_statistics(total_minutes)\n",
    "\n",
    "# A simple dictionary to hold the lessons completed in the first week\n",
    "# for each account\n",
    "total_lessons_by_account = get_total_from_statistic('lessons_completed', engagement_by_account)\n",
    "# Get the values\n",
    "total_lessons = list(total_lessons_by_account.values())\n",
    "# Display the statistics for lessons completed\n",
    "display_statistics(total_lessons)"
   ]
  },
  {
   "cell_type": "markdown",
   "id": "bc825619",
   "metadata": {},
   "source": [
    "## Number of visits in the First Week"
   ]
  },
  {
   "cell_type": "code",
   "execution_count": 142,
   "id": "c1d2538f",
   "metadata": {},
   "outputs": [
    {
     "name": "stdout",
     "output_type": "stream",
     "text": [
      "Mean: 2.8673366834170855\n",
      "Standard Deviation: 2.2551980029196814\n",
      "Minimum: 0\n",
      "Maximum: 7\n"
     ]
    }
   ],
   "source": [
    "# There are two ways to do this, either by change the function to also calculate\n",
    "# The number of days studenst actually visited a course,\n",
    "# Or by adding a new 'has visited' field to the engagement records.\n",
    "# I will go with the second option, because it can work with my existing function\n",
    "\n",
    "# Add a new field to the engagement records to indicate if the student visited\n",
    "# at least one course on that day.\n",
    "for record in paid_engagement_in_first_week:\n",
    "    record['has_visited'] = 1 if (record['num_courses_visited'] > 0) else 0\n",
    "\n",
    "# A simple dictionary to hold the number of days each student visited at least one\n",
    "# course in the first week\n",
    "days_visited_by_account = get_total_from_statistic('has_visited', engagement_by_account)\n",
    "# Get the values\n",
    "days_visited = list(days_visited_by_account.values())\n",
    "# Display the statistics for the number of days visited\n",
    "display_statistics(days_visited)"
   ]
  },
  {
   "cell_type": "markdown",
   "id": "b05a72ba",
   "metadata": {},
   "source": [
    "## Splitting out passing students"
   ]
  },
  {
   "cell_type": "code",
   "execution_count": 143,
   "id": "8b5e98a6",
   "metadata": {},
   "outputs": [
    {
     "data": {
      "text/plain": [
       "647"
      ]
     },
     "execution_count": 143,
     "metadata": {},
     "output_type": "execute_result"
    }
   ],
   "source": [
    "# Create two lists to hold the records of students who passed \n",
    "# and those who didn't. The provided project keys are the two\n",
    "# first projects that are used to grade the students.\n",
    "subway_project_lesson_keys = ['746169184', '3176718735']\n",
    "\n",
    "# A set to hold the account keys of students who passed\n",
    "passing_subway_projects = set()\n",
    "\n",
    "for record in paid_submissions:\n",
    "    # Only consider the submissions for the two projects\n",
    "    if record['lesson_key'] in subway_project_lesson_keys:\n",
    "        account_key = record['account_key']\n",
    "        rating = record['assigned_rating']\n",
    "        if (rating == 'PASSED' or rating == 'DISTINCTION'):\n",
    "            passing_subway_projects.add(account_key)\n",
    "len(passing_subway_projects)"
   ]
  },
  {
   "cell_type": "code",
   "execution_count": 144,
   "id": "245d03cd",
   "metadata": {},
   "outputs": [
    {
     "name": "stdout",
     "output_type": "stream",
     "text": [
      "4527\n",
      "2392\n"
     ]
    }
   ],
   "source": [
    "# Reminder: One student can have multiple engagements in the\n",
    "# first week, so we consider all the engagements for the student\n",
    "# who passed or didn't pass the project.\n",
    "passing_engagement = []\n",
    "non_passing_engagement = []\n",
    "\n",
    "for record in paid_engagement_in_first_week:\n",
    "    account_key = record['account_key']\n",
    "    if account_key in passing_subway_projects:\n",
    "        passing_engagement.append(record)\n",
    "    else:\n",
    "        non_passing_engagement.append(record)\n",
    "print(len(passing_engagement))\n",
    "print(len(non_passing_engagement))"
   ]
  },
  {
   "cell_type": "markdown",
   "id": "1914e62b",
   "metadata": {},
   "source": [
    "## Comparing the Two Student Groups"
   ]
  },
  {
   "cell_type": "code",
   "execution_count": 151,
   "id": "7c85aca2",
   "metadata": {},
   "outputs": [],
   "source": [
    "# I want to see if there is a difference in days visited\n",
    "# between students who passed and those who didn't.\n",
    "engagement_by_passing_account = defaultdict(list)\n",
    "engagement_by_non_passing_account = defaultdict(list)\n",
    "\n",
    "# Generate the dictionaries that hold the engagement by account\n",
    "for record in passing_engagement:\n",
    "    account_key = record['account_key']\n",
    "    engagement_by_passing_account[account_key].append(record)\n",
    "for record in non_passing_engagement:\n",
    "    account_key = record['account_key']\n",
    "    engagement_by_non_passing_account[account_key].append(record)"
   ]
  },
  {
   "cell_type": "code",
   "execution_count": 154,
   "id": "b18ae818",
   "metadata": {},
   "outputs": [
    {
     "name": "stdout",
     "output_type": "stream",
     "text": [
      "Mean: 3.384853168469861\n",
      "Standard Deviation: 2.2588214709184595\n",
      "Minimum: 0\n",
      "Maximum: 7\n",
      "Mean: 1.9051724137931034\n",
      "Standard Deviation: 1.9057314413619046\n",
      "Minimum: 0\n",
      "Maximum: 7\n"
     ]
    }
   ],
   "source": [
    "# Gather the statistics for the number of days visited in both groups\n",
    "\n",
    "days_visited_by_passing_account = get_total_from_statistic('has_visited', engagement_by_passing_account)\n",
    "days_visited_passing = list(days_visited_by_passing_account.values())\n",
    "display_statistics(days_visited_passing)\n",
    "\n",
    "days_visited_by_non_passing_account = get_total_from_statistic('has_visited', engagement_by_non_passing_account)\n",
    "days_visited_non_passing = list(days_visited_by_non_passing_account.values())\n",
    "display_statistics(days_visited_non_passing)"
   ]
  },
  {
   "cell_type": "code",
   "execution_count": 156,
   "id": "87bfb09a",
   "metadata": {},
   "outputs": [],
   "source": [
    "# My metric to compare the two groups: projects completed besides the subway project.\n",
    "\n",
    "# TODO: put in the code"
   ]
  }
 ],
 "metadata": {
  "kernelspec": {
   "display_name": "base",
   "language": "python",
   "name": "python3"
  },
  "language_info": {
   "codemirror_mode": {
    "name": "ipython",
    "version": 3
   },
   "file_extension": ".py",
   "mimetype": "text/x-python",
   "name": "python",
   "nbconvert_exporter": "python",
   "pygments_lexer": "ipython3",
   "version": "3.11.4"
  }
 },
 "nbformat": 4,
 "nbformat_minor": 5
}
